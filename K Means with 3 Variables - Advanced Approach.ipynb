{
 "cells": [
  {
   "cell_type": "markdown",
   "metadata": {},
   "source": [
    "# K Means Clustering with 3 Variables - An Advanced Approach"
   ]
  },
  {
   "cell_type": "markdown",
   "metadata": {},
   "source": [
    "\n",
    "## 1. Reading data \n",
    "\n",
    "In this section, raw data will be read, overviewed and checked if any cleaning is required."
   ]
  },
  {
   "cell_type": "code",
   "execution_count": null,
   "metadata": {},
   "outputs": [],
   "source": [
    "# Supress Warnings\n",
    "\n",
    "import warnings\n",
    "warnings.filterwarnings('ignore')"
   ]
  },
  {
   "cell_type": "code",
   "execution_count": null,
   "metadata": {
    "execution": {
     "iopub.execute_input": "2022-05-24T15:06:01.520109Z",
     "iopub.status.busy": "2022-05-24T15:06:01.519369Z",
     "iopub.status.idle": "2022-05-24T15:06:01.527207Z",
     "shell.execute_reply": "2022-05-24T15:06:01.526469Z",
     "shell.execute_reply.started": "2022-05-24T15:06:01.520045Z"
    }
   },
   "outputs": [],
   "source": [
    "import pandas as pd\n",
    "import seaborn as sns\n",
    "import matplotlib.pyplot as plt\n",
    "import numpy as np\n",
    "from scipy import stats\n",
    "\n",
    "print(\"pandas version: {}\".format(pd.__version__))\n",
    "print(\"numpy version: {}\".format(np.__version__))\n",
    "print(\"seaborn version: {}\".format(sns.__version__))\n"
   ]
  },
  {
   "cell_type": "code",
   "execution_count": null,
   "metadata": {
    "_cell_guid": "79c7e3d0-c299-4dcb-8224-4455121ee9b0",
    "_uuid": "d629ff2d2480ee46fbb7e2d37f6b5fab8052498a",
    "execution": {
     "iopub.execute_input": "2022-05-24T15:06:01.572722Z",
     "iopub.status.busy": "2022-05-24T15:06:01.572375Z",
     "iopub.status.idle": "2022-05-24T15:06:01.590668Z",
     "shell.execute_reply": "2022-05-24T15:06:01.589596Z",
     "shell.execute_reply.started": "2022-05-24T15:06:01.572653Z"
    }
   },
   "outputs": [],
   "source": [
    "# Let us call our Customer Dataset as Mall Data\n",
    "\n",
    "mall_data = pd.read_csv(r'D:\\WORK RELATED\\BYTEIQ\\COMPANY CONSULTING\\IIT Mandi FutureAcads\\ML Sessions Aug 2023\\Algos\\K Means Clustering\\My_store_customers.csv')\n",
    "\n",
    "print('There are {} rows and {} columns in our dataset.'.format(mall_data.shape[0],mall_data.shape[1]))"
   ]
  },
  {
   "cell_type": "code",
   "execution_count": null,
   "metadata": {
    "execution": {
     "iopub.execute_input": "2022-05-24T15:06:01.613077Z",
     "iopub.status.busy": "2022-05-24T15:06:01.612473Z",
     "iopub.status.idle": "2022-05-24T15:06:01.635141Z",
     "shell.execute_reply": "2022-05-24T15:06:01.633552Z",
     "shell.execute_reply.started": "2022-05-24T15:06:01.613027Z"
    }
   },
   "outputs": [],
   "source": [
    "mall_data.sample(10)"
   ]
  },
  {
   "cell_type": "code",
   "execution_count": null,
   "metadata": {
    "execution": {
     "iopub.execute_input": "2022-05-24T15:06:01.653533Z",
     "iopub.status.busy": "2022-05-24T15:06:01.652937Z",
     "iopub.status.idle": "2022-05-24T15:06:01.686595Z",
     "shell.execute_reply": "2022-05-24T15:06:01.685514Z",
     "shell.execute_reply.started": "2022-05-24T15:06:01.653480Z"
    }
   },
   "outputs": [],
   "source": [
    "mall_data.describe()"
   ]
  },
  {
   "cell_type": "markdown",
   "metadata": {},
   "source": [
    "There are 5 columns:\n",
    "* `Customer ID` - numerical - unique customer number - integer\n",
    "* `Gender` - categorical - binary (Male/Female)\n",
    "* `Age` - numerical - integer\n",
    "* `Annual Income (k$)` - numerical - integer\n",
    "* `Spending Score (1-100)` - numerical - integer\n",
    "\n",
    "There is one binary, categorical column: ```gender```. You may be tempted to one-hot encode it for the clustering. It is:\n",
    "* technically possible\n",
    "* theoretically not forbidden\n",
    "* practically not recommended\n",
    "\n",
    "However, it is not recommended and nicely explained on the [IBM support site](https://www.ibm.com/support/pages/clustering-binary-data-k-means-should-be-avoided).\n"
   ]
  },
  {
   "cell_type": "code",
   "execution_count": null,
   "metadata": {
    "execution": {
     "iopub.execute_input": "2022-05-24T15:06:01.689360Z",
     "iopub.status.busy": "2022-05-24T15:06:01.688777Z",
     "iopub.status.idle": "2022-05-24T15:06:01.725236Z",
     "shell.execute_reply": "2022-05-24T15:06:01.723817Z",
     "shell.execute_reply.started": "2022-05-24T15:06:01.689282Z"
    }
   },
   "outputs": [],
   "source": [
    "mall_data.describe()"
   ]
  },
  {
   "cell_type": "code",
   "execution_count": null,
   "metadata": {
    "execution": {
     "iopub.execute_input": "2022-05-24T15:06:01.728767Z",
     "iopub.status.busy": "2022-05-24T15:06:01.728031Z",
     "iopub.status.idle": "2022-05-24T15:06:01.739787Z",
     "shell.execute_reply": "2022-05-24T15:06:01.737821Z",
     "shell.execute_reply.started": "2022-05-24T15:06:01.728519Z"
    }
   },
   "outputs": [],
   "source": [
    "mall_data.isnull().sum()"
   ]
  },
  {
   "cell_type": "markdown",
   "metadata": {},
   "source": [
    "There are no missing data. This simplifies the analysis but it is a very unlikely scenario in a real-life where analysts spend a significant amount of time cleaning their data before the core analysis is performed"
   ]
  },
  {
   "cell_type": "markdown",
   "metadata": {},
   "source": [
    "\n",
    "## 2. Exploratory Data Analysis\n",
    "\n",
    "This section contains a basic statistical investigation of a given database. It is a crucial point in any analysis as it allows for a better understanding of the underlying data. This part has two main sections: distributions and correlations."
   ]
  },
  {
   "cell_type": "markdown",
   "metadata": {},
   "source": [
    "\n",
    "### 2.1 Distributions\n",
    "\n",
    "In this section distributions of numerical variables will be investigated in detail. Data will be stratified by gender - the only categorical variable."
   ]
  },
  {
   "cell_type": "code",
   "execution_count": null,
   "metadata": {
    "execution": {
     "iopub.execute_input": "2022-05-24T15:06:01.782279Z",
     "iopub.status.busy": "2022-05-24T15:06:01.781701Z",
     "iopub.status.idle": "2022-05-24T15:06:02.373888Z",
     "shell.execute_reply": "2022-05-24T15:06:02.372029Z",
     "shell.execute_reply.started": "2022-05-24T15:06:01.782230Z"
    }
   },
   "outputs": [],
   "source": [
    "males_age = mall_data[mall_data['Gender']=='Male']['Age'] # subset with males age\n",
    "females_age = mall_data[mall_data['Gender']=='Female']['Age'] # subset with females age\n",
    "\n",
    "age_bins = range(15,75,5)\n",
    "\n",
    "# males histogram\n",
    "fig2, (ax1, ax2) = plt.subplots(1, 2, figsize=(12,5), sharey=True)\n",
    "sns.distplot(males_age, bins=age_bins, kde=False, color='#0066ff', ax=ax1, hist_kws=dict(edgecolor=\"k\", linewidth=2))\n",
    "ax1.set_xticks(age_bins)\n",
    "ax1.set_ylim(top=25)\n",
    "ax1.set_title('Males')\n",
    "ax1.set_ylabel('Count')\n",
    "ax1.text(45,23, \"TOTAL count: {}\".format(males_age.count()))\n",
    "ax1.text(45,22, \"Mean age: {:.1f}\".format(males_age.mean()))\n",
    "\n",
    "# females histogram\n",
    "sns.distplot(females_age, bins=age_bins, kde=False, color='#cc66ff', ax=ax2, hist_kws=dict(edgecolor=\"k\", linewidth=2))\n",
    "ax2.set_xticks(age_bins)\n",
    "ax2.set_title('Females')\n",
    "ax2.set_ylabel('Count')\n",
    "ax2.text(45,23, \"TOTAL count: {}\".format(females_age.count()))\n",
    "ax2.text(45,22, \"Mean age: {:.1f}\".format(females_age.mean()))\n",
    "\n",
    "plt.show()"
   ]
  },
  {
   "cell_type": "code",
   "execution_count": null,
   "metadata": {
    "_kg_hide-input": true,
    "execution": {
     "iopub.execute_input": "2022-05-24T15:06:02.377868Z",
     "iopub.status.busy": "2022-05-24T15:06:02.377115Z",
     "iopub.status.idle": "2022-05-24T15:06:02.393695Z",
     "shell.execute_reply": "2022-05-24T15:06:02.391772Z",
     "shell.execute_reply.started": "2022-05-24T15:06:02.377576Z"
    }
   },
   "outputs": [],
   "source": [
    "print('Kolgomorov-Smirnov test p-value: {:.2f}'.format(stats.ks_2samp(males_age, females_age)[1]))"
   ]
  },
  {
   "cell_type": "markdown",
   "metadata": {},
   "source": [
    "The average age of male customers is slightly higher than female ones (39.8 versus 38.1). Distribution of male age is more uniform than females, where we can observe that the biggest age group is 30-35 years old. Kolgomorov-Smirnov test shows that the differences between these two groups are statistically insignificant [p-value > Alpha]"
   ]
  },
  {
   "cell_type": "code",
   "execution_count": null,
   "metadata": {
    "_kg_hide-input": true,
    "execution": {
     "iopub.execute_input": "2022-05-24T15:06:02.397285Z",
     "iopub.status.busy": "2022-05-24T15:06:02.396469Z",
     "iopub.status.idle": "2022-05-24T15:06:02.683439Z",
     "shell.execute_reply": "2022-05-24T15:06:02.682232Z",
     "shell.execute_reply.started": "2022-05-24T15:06:02.397212Z"
    }
   },
   "outputs": [],
   "source": [
    "def labeler(pct, allvals):\n",
    "    absolute = int(pct/100.*np.sum(allvals))\n",
    "    return \"{:.1f}%\\n({:d})\".format(pct, absolute)\n",
    "\n",
    "sizes = [males_age.count(),females_age.count()] # wedge sizes\n",
    "\n",
    "fig0, ax1 = plt.subplots(figsize=(6,6))\n",
    "wedges, texts, autotexts = ax1.pie(sizes,\n",
    "                                   autopct=lambda pct: labeler(pct, sizes),\n",
    "                                   radius=1,\n",
    "                                   colors=['#0066ff','#cc66ff'],\n",
    "                                   startangle=90,\n",
    "                                   textprops=dict(color=\"w\"),\n",
    "                                   wedgeprops=dict(width=0.7, edgecolor='w'))\n",
    "\n",
    "ax1.legend(wedges, ['male','female'],\n",
    "           loc='center right',\n",
    "           bbox_to_anchor=(0.7, 0, 0.5, 1))\n",
    "\n",
    "plt.text(0,0, 'TOTAL\\n{}'.format(mall_data['Age'].count()),\n",
    "         weight='bold', size=12, color='#52527a',\n",
    "         ha='center', va='center')\n",
    "\n",
    "plt.setp(autotexts, size=12, weight='bold')\n",
    "ax1.axis('equal')  # Equal aspect ratio\n",
    "plt.show()"
   ]
  },
  {
   "cell_type": "markdown",
   "metadata": {},
   "source": [
    "There are slightly more female customers than male ones (112 vs. 87). Females are 56% of total customers."
   ]
  },
  {
   "cell_type": "code",
   "execution_count": null,
   "metadata": {
    "_kg_hide-input": true,
    "execution": {
     "iopub.execute_input": "2022-05-24T15:06:02.686073Z",
     "iopub.status.busy": "2022-05-24T15:06:02.685388Z",
     "iopub.status.idle": "2022-05-24T15:06:03.606113Z",
     "shell.execute_reply": "2022-05-24T15:06:03.604868Z",
     "shell.execute_reply.started": "2022-05-24T15:06:02.686001Z"
    }
   },
   "outputs": [],
   "source": [
    "males_income = mall_data[mall_data['Gender']=='Male']['Annual Income (k$)'] # subset with males income\n",
    "females_income = mall_data[mall_data['Gender']=='Female']['Annual Income (k$)'] # subset with females income\n",
    "\n",
    "my_bins = range(10,150,10)\n",
    "\n",
    "# males histogram\n",
    "fig, (ax1, ax2, ax3) = plt.subplots(1, 3, figsize=(18,5))\n",
    "sns.distplot(males_income, bins=my_bins, kde=False, color='#0066ff', ax=ax1, hist_kws=dict(edgecolor=\"k\", linewidth=2))\n",
    "ax1.set_xticks(my_bins)\n",
    "ax1.set_yticks(range(0,24,2))\n",
    "ax1.set_ylim(0,22)\n",
    "ax1.set_title('Males')\n",
    "ax1.set_ylabel('Count')\n",
    "ax1.text(85,19, \"Mean income: {:.1f}k$\".format(males_income.mean()))\n",
    "ax1.text(85,18, \"Median income: {:.1f}k$\".format(males_income.median()))\n",
    "ax1.text(85,17, \"Std. deviation: {:.1f}k$\".format(males_income.std()))\n",
    "\n",
    "# females histogram\n",
    "sns.distplot(females_income, bins=my_bins, kde=False, color='#cc66ff', ax=ax2, hist_kws=dict(edgecolor=\"k\", linewidth=2))\n",
    "ax2.set_xticks(my_bins)\n",
    "ax2.set_yticks(range(0,24,2))\n",
    "ax2.set_ylim(0,22)\n",
    "ax2.set_title('Females')\n",
    "ax2.set_ylabel('Count')\n",
    "ax2.text(85,19, \"Mean income: {:.1f}k$\".format(females_income.mean()))\n",
    "ax2.text(85,18, \"Median income: {:.1f}k$\".format(females_income.median()))\n",
    "ax2.text(85,17, \"Std. deviation: {:.1f}k$\".format(females_income.std()))\n",
    "\n",
    "# boxplot\n",
    "sns.boxplot(x='Gender', y='Annual Income (k$)', data=mall_data, ax=ax3)\n",
    "ax3.set_title('Boxplot of annual income')\n",
    "plt.show()"
   ]
  },
  {
   "cell_type": "code",
   "execution_count": null,
   "metadata": {
    "_kg_hide-input": true,
    "execution": {
     "iopub.execute_input": "2022-05-24T15:06:03.613424Z",
     "iopub.status.busy": "2022-05-24T15:06:03.612284Z",
     "iopub.status.idle": "2022-05-24T15:06:03.628314Z",
     "shell.execute_reply": "2022-05-24T15:06:03.626198Z",
     "shell.execute_reply.started": "2022-05-24T15:06:03.613305Z"
    }
   },
   "outputs": [],
   "source": [
    "print('Kolgomorov-Smirnov test p-value: {:.2f}'.format(stats.ks_2samp(males_income, females_income)[1]))"
   ]
  },
  {
   "cell_type": "markdown",
   "metadata": {},
   "source": [
    "Mean income of males is higher than females (62.2 k\\\\$ vs. 59.2k\\\\$). Also median income of male customers (62.5k\\\\$) is higher thn female ones (60k\\\\$). Standard deviation is similar for both groups. There is one outlier in male group with an annual income of about 140k\\\\$. K-S test shows that these two groups are not statistically different."
   ]
  },
  {
   "cell_type": "code",
   "execution_count": null,
   "metadata": {
    "_kg_hide-input": true,
    "execution": {
     "iopub.execute_input": "2022-05-24T15:06:03.633016Z",
     "iopub.status.busy": "2022-05-24T15:06:03.632724Z",
     "iopub.status.idle": "2022-05-24T15:06:04.781084Z",
     "shell.execute_reply": "2022-05-24T15:06:04.779381Z",
     "shell.execute_reply.started": "2022-05-24T15:06:03.632971Z"
    }
   },
   "outputs": [],
   "source": [
    "males_spending = mall_data[mall_data['Gender']=='Male']['Spending Score (1-100)'] # subset with males age\n",
    "females_spending = mall_data[mall_data['Gender']=='Female']['Spending Score (1-100)'] # subset with females age\n",
    "\n",
    "spending_bins = range(0,105,5)\n",
    "\n",
    "# males histogram\n",
    "fig, (ax1, ax2, ax3) = plt.subplots(1, 3, figsize=(18,5))\n",
    "sns.distplot(males_spending, bins=spending_bins, kde=False, color='#0066ff', ax=ax1, hist_kws=dict(edgecolor=\"k\", linewidth=2))\n",
    "ax1.set_xticks(spending_bins)\n",
    "ax1.set_xlim(0,100)\n",
    "ax1.set_yticks(range(0,17,1))\n",
    "ax1.set_ylim(0,16)\n",
    "ax1.set_title('Males')\n",
    "ax1.set_ylabel('Count')\n",
    "ax1.text(50,15, \"Mean spending score: {:.1f}\".format(males_spending.mean()))\n",
    "ax1.text(50,14, \"Median spending score: {:.1f}\".format(males_spending.median()))\n",
    "ax1.text(50,13, \"Std. deviation score: {:.1f}\".format(males_spending.std()))\n",
    "\n",
    "# females histogram\n",
    "sns.distplot(females_spending, bins=spending_bins, kde=False, color='#cc66ff', ax=ax2, hist_kws=dict(edgecolor=\"k\", linewidth=2))\n",
    "ax2.set_xticks(spending_bins)\n",
    "ax2.set_xlim(0,100)\n",
    "ax2.set_yticks(range(0,17,1))\n",
    "ax2.set_ylim(0,16)\n",
    "ax2.set_title('Females')\n",
    "ax2.set_ylabel('Count')\n",
    "ax2.text(50,15, \"Mean spending score: {:.1f}\".format(females_spending.mean()))\n",
    "ax2.text(50,14, \"Median spending score: {:.1f}\".format(females_spending.median()))\n",
    "ax2.text(50,13, \"Std. deviation score: {:.1f}\".format(females_spending.std()))\n",
    "\n",
    "# boxplot\n",
    "sns.boxplot(x='Gender', y='Spending Score (1-100)', data=mall_data, ax=ax3)\n",
    "ax3.set_title('Boxplot of spending score')\n",
    "plt.show()\n",
    "\n",
    "plt.show()"
   ]
  },
  {
   "cell_type": "code",
   "execution_count": null,
   "metadata": {
    "_kg_hide-input": true,
    "execution": {
     "iopub.execute_input": "2022-05-24T15:06:04.784403Z",
     "iopub.status.busy": "2022-05-24T15:06:04.783436Z",
     "iopub.status.idle": "2022-05-24T15:06:04.798359Z",
     "shell.execute_reply": "2022-05-24T15:06:04.796941Z",
     "shell.execute_reply.started": "2022-05-24T15:06:04.784056Z"
    }
   },
   "outputs": [],
   "source": [
    "print('Kolgomorov-Smirnov test p-value: {:.2f}'.format(stats.ks_2samp(males_spending, females_spending)[1]))"
   ]
  },
  {
   "cell_type": "markdown",
   "metadata": {},
   "source": [
    "A mean spending score for women (51.5) is higher than men (48.5). The K-S test p-value indicates that there is no evidence to reject the null-hypothesis, however the evidence is not so strong as in previous comparisons.\n",
    "Next I will calculate median income for  all age groups."
   ]
  },
  {
   "cell_type": "code",
   "execution_count": null,
   "metadata": {
    "execution": {
     "iopub.execute_input": "2022-05-24T15:06:04.801153Z",
     "iopub.status.busy": "2022-05-24T15:06:04.800437Z",
     "iopub.status.idle": "2022-05-24T15:06:04.836762Z",
     "shell.execute_reply": "2022-05-24T15:06:04.835683Z",
     "shell.execute_reply.started": "2022-05-24T15:06:04.801083Z"
    }
   },
   "outputs": [],
   "source": [
    "medians_by_age_group = mall_data.groupby([\"Gender\",pd.cut(mall_data['Age'], age_bins)]).median()\n",
    "medians_by_age_group.index = medians_by_age_group.index.set_names(['Gender', 'Age_group'])\n",
    "medians_by_age_group.reset_index(inplace=True)"
   ]
  },
  {
   "cell_type": "code",
   "execution_count": null,
   "metadata": {
    "_kg_hide-input": true,
    "execution": {
     "iopub.execute_input": "2022-05-24T15:06:04.838996Z",
     "iopub.status.busy": "2022-05-24T15:06:04.838115Z",
     "iopub.status.idle": "2022-05-24T15:06:05.333213Z",
     "shell.execute_reply": "2022-05-24T15:06:05.331972Z",
     "shell.execute_reply.started": "2022-05-24T15:06:04.838939Z"
    }
   },
   "outputs": [],
   "source": [
    "fig, ax = plt.subplots(figsize=(12,5))\n",
    "sns.barplot(x='Age_group', y='Annual Income (k$)', hue='Gender', data=medians_by_age_group,\n",
    "            palette=['#cc66ff','#0066ff'],\n",
    "            alpha=0.7,edgecolor='k',\n",
    "            ax=ax)\n",
    "ax.set_title('Median annual income of male and female customers')\n",
    "ax.set_xlabel('Age group')\n",
    "plt.show()"
   ]
  },
  {
   "cell_type": "markdown",
   "metadata": {},
   "source": [
    "A bar chart above shows that the most wealthy customers are in age of 25-45 years old. The biggest difference between women and men is visible in  age groups 25-30 (male more rich) and 50-55 (female more rich)."
   ]
  },
  {
   "cell_type": "markdown",
   "metadata": {},
   "source": [
    "\n",
    "### 2.2 Correlations\n",
    "This section investigates correlations between numerical variables."
   ]
  },
  {
   "cell_type": "code",
   "execution_count": null,
   "metadata": {
    "execution": {
     "iopub.execute_input": "2022-05-24T15:06:05.336054Z",
     "iopub.status.busy": "2022-05-24T15:06:05.335596Z",
     "iopub.status.idle": "2022-05-24T15:06:07.132455Z",
     "shell.execute_reply": "2022-05-24T15:06:07.131388Z",
     "shell.execute_reply.started": "2022-05-24T15:06:05.335977Z"
    }
   },
   "outputs": [],
   "source": [
    "from scipy.stats import pearsonr\n",
    "\n",
    "# calculating Pearson's correlation\n",
    "corr, _ = pearsonr(mall_data['Age'], mall_data['Spending Score (1-100)'])\n",
    "\n",
    "jp = (sns.jointplot(x='Age', y='Spending Score (1-100)', data=mall_data,\n",
    "                    kind='reg')).plot_joint(sns.kdeplot, zorder=0, n_levels=6)\n",
    "\n",
    "plt.text(0,120, 'Pearson: {:.2f}'.format(corr))\n",
    "plt.show()"
   ]
  },
  {
   "cell_type": "code",
   "execution_count": null,
   "metadata": {
    "execution": {
     "iopub.execute_input": "2022-05-24T15:06:07.134222Z",
     "iopub.status.busy": "2022-05-24T15:06:07.133882Z",
     "iopub.status.idle": "2022-05-24T15:06:07.855650Z",
     "shell.execute_reply": "2022-05-24T15:06:07.854518Z",
     "shell.execute_reply.started": "2022-05-24T15:06:07.134153Z"
    }
   },
   "outputs": [],
   "source": [
    "# calculating Pearson's correlations\n",
    "corr1, _ = pearsonr(males_age.values, males_income.values)\n",
    "corr2, _ = pearsonr(females_age.values, females_income.values)\n",
    "\n",
    "sns.lmplot(x='Age', y='Annual Income (k$)', data=mall_data, hue='Gender',\n",
    "          aspect=1.5)\n",
    "\n",
    "plt.text(15,87, 'Pearson: {:.2f}'.format(corr1), color='blue')\n",
    "plt.text(65,80, 'Pearson: {:.2f}'.format(corr2), color='orange')\n",
    "\n",
    "plt.show()"
   ]
  },
  {
   "cell_type": "markdown",
   "metadata": {},
   "source": [
    "There is a negligible correlation between age and annual income of customers for both sex groups."
   ]
  },
  {
   "cell_type": "code",
   "execution_count": null,
   "metadata": {
    "_kg_hide-input": true,
    "execution": {
     "iopub.execute_input": "2022-05-24T15:06:07.857581Z",
     "iopub.status.busy": "2022-05-24T15:06:07.857209Z",
     "iopub.status.idle": "2022-05-24T15:06:08.569032Z",
     "shell.execute_reply": "2022-05-24T15:06:08.568088Z",
     "shell.execute_reply.started": "2022-05-24T15:06:07.857520Z"
    }
   },
   "outputs": [],
   "source": [
    "# calculating Pearson's correlations\n",
    "corr1, _ = pearsonr(males_age.values, males_spending.values)\n",
    "corr2, _ = pearsonr(females_age.values, females_spending.values)\n",
    "\n",
    "sns.lmplot(x='Age', y='Spending Score (1-100)', data=mall_data, hue='Gender',\n",
    "          aspect=1.5)\n",
    "\n",
    "plt.text(65,65, 'Pearson: {:.2f}'.format(corr1), color='blue')\n",
    "plt.text(13,83, 'Pearson: {:.2f}'.format(corr2), color='#d97900')\n",
    "\n",
    "plt.show()"
   ]
  },
  {
   "cell_type": "markdown",
   "metadata": {},
   "source": [
    "There are week negative correlations (<0.5) between age and spending score for both sex groups."
   ]
  },
  {
   "cell_type": "code",
   "execution_count": null,
   "metadata": {
    "_kg_hide-input": true,
    "execution": {
     "iopub.execute_input": "2022-05-24T15:06:08.571172Z",
     "iopub.status.busy": "2022-05-24T15:06:08.570623Z",
     "iopub.status.idle": "2022-05-24T15:06:09.292433Z",
     "shell.execute_reply": "2022-05-24T15:06:09.291227Z",
     "shell.execute_reply.started": "2022-05-24T15:06:08.571111Z"
    }
   },
   "outputs": [],
   "source": [
    "# calculating Pearson's correlations\n",
    "corr1, _ = pearsonr(males_income.values, males_spending.values)\n",
    "corr2, _ = pearsonr(females_income.values, females_spending.values)\n",
    "\n",
    "sns.lmplot(x='Annual Income (k$)', y='Spending Score (1-100)', data=mall_data, hue='Gender',\n",
    "          aspect=1.5)\n",
    "\n",
    "plt.text(130,23, 'Pearson: {:.2f}'.format(corr1), color='blue')\n",
    "plt.text(130,77, 'Pearson: {:.2f}'.format(corr2), color='#d97900')\n",
    "\n",
    "plt.show()"
   ]
  },
  {
   "cell_type": "markdown",
   "metadata": {},
   "source": [
    "There is a negligible correlation between annual income and spending score of customers for both sex groups."
   ]
  },
  {
   "cell_type": "markdown",
   "metadata": {},
   "source": [
    "## 3. K Means Clustering Implementation\n",
    "\n"
   ]
  },
  {
   "cell_type": "code",
   "execution_count": null,
   "metadata": {
    "execution": {
     "iopub.execute_input": "2022-05-24T15:06:09.295223Z",
     "iopub.status.busy": "2022-05-24T15:06:09.294670Z",
     "iopub.status.idle": "2022-05-24T15:06:09.300969Z",
     "shell.execute_reply": "2022-05-24T15:06:09.299562Z",
     "shell.execute_reply.started": "2022-05-24T15:06:09.295158Z"
    }
   },
   "outputs": [],
   "source": [
    "#The very first step in a clustering analysis is importing K-Means from the sklearn library.\n",
    "\n",
    "from sklearn.cluster import KMeans "
   ]
  },
  {
   "cell_type": "markdown",
   "metadata": {},
   "source": [
    "For clustering only numeric columns are used. As mentioned at the beginning the binary variable `gender` will not be used here."
   ]
  },
  {
   "cell_type": "code",
   "execution_count": null,
   "metadata": {
    "execution": {
     "iopub.execute_input": "2022-05-24T15:06:09.303500Z",
     "iopub.status.busy": "2022-05-24T15:06:09.302820Z",
     "iopub.status.idle": "2022-05-24T15:06:09.319456Z",
     "shell.execute_reply": "2022-05-24T15:06:09.317121Z",
     "shell.execute_reply.started": "2022-05-24T15:06:09.303434Z"
    }
   },
   "outputs": [],
   "source": [
    "X_numerics = mall_data[['Age', 'Annual Income (k$)', 'Spending Score (1-100)']] # subset with numeric variables only"
   ]
  },
  {
   "cell_type": "markdown",
   "metadata": {},
   "source": [
    "In order to find an appropriate number of clusters, the elbow method will be used. In this method for this case, the inertia for a number of clusters between 2 and 10 will be calculated. The rule is to choose the number of clusters where you see a kink or \"an elbow\" in the graph."
   ]
  },
  {
   "cell_type": "code",
   "execution_count": null,
   "metadata": {
    "execution": {
     "iopub.execute_input": "2022-05-24T15:06:09.323434Z",
     "iopub.status.busy": "2022-05-24T15:06:09.321849Z",
     "iopub.status.idle": "2022-05-24T15:06:10.217633Z",
     "shell.execute_reply": "2022-05-24T15:06:10.216581Z",
     "shell.execute_reply.started": "2022-05-24T15:06:09.322216Z"
    }
   },
   "outputs": [],
   "source": [
    "from yellowbrick.cluster import KElbowVisualizer\n",
    "\n",
    "model = KMeans(random_state=1)\n",
    "visualizer = KElbowVisualizer(model, k=(2,10))\n",
    "\n",
    "visualizer.fit(X_numerics)\n",
    "visualizer.show()\n",
    "plt.show()"
   ]
  },
  {
   "cell_type": "markdown",
   "metadata": {},
   "source": [
    "The graph above shows the reduction of a distortion score as the number of clusters increases. However, there is no clear \"elbow\" visible. The underlying algorithm suggests 5 clusters. A choice of 5 or 6 clusters seems to be fair. \n",
    "\n",
    "Another way to choose the best number of clusters is to plot the silhuette score in a function of number of clusters. Let's see the results."
   ]
  },
  {
   "cell_type": "code",
   "execution_count": null,
   "metadata": {
    "execution": {
     "iopub.execute_input": "2022-05-24T15:06:10.219682Z",
     "iopub.status.busy": "2022-05-24T15:06:10.219162Z",
     "iopub.status.idle": "2022-05-24T15:06:10.980001Z",
     "shell.execute_reply": "2022-05-24T15:06:10.979296Z",
     "shell.execute_reply.started": "2022-05-24T15:06:10.219623Z"
    }
   },
   "outputs": [],
   "source": [
    "model = KMeans(random_state=1)\n",
    "visualizer = KElbowVisualizer(model, k=(2,10), metric='silhouette')\n",
    "\n",
    "visualizer.fit(X_numerics)\n",
    "visualizer.show()\n",
    "plt.show()"
   ]
  },
  {
   "cell_type": "markdown",
   "metadata": {},
   "source": [
    "Silhouette score method indicates the best options would be 5 or 6 clusters. Let's compare both."
   ]
  },
  {
   "cell_type": "markdown",
   "metadata": {},
   "source": [
    "## 3.1 Trial with 5 clusters"
   ]
  },
  {
   "cell_type": "code",
   "execution_count": null,
   "metadata": {
    "execution": {
     "iopub.execute_input": "2022-05-24T15:06:10.981982Z",
     "iopub.status.busy": "2022-05-24T15:06:10.981455Z",
     "iopub.status.idle": "2022-05-24T15:06:11.035243Z",
     "shell.execute_reply": "2022-05-24T15:06:11.034531Z",
     "shell.execute_reply.started": "2022-05-24T15:06:10.981923Z"
    }
   },
   "outputs": [],
   "source": [
    "KM_5_clusters = KMeans(n_clusters=5, init='k-means++').fit(X_numerics) # initialise and fit K-Means model\n",
    "\n",
    "KM5_clustered = X_numerics.copy()\n",
    "KM5_clustered.loc[:,'Cluster'] = KM_5_clusters.labels_ # append labels to points"
   ]
  },
  {
   "cell_type": "code",
   "execution_count": null,
   "metadata": {
    "execution": {
     "iopub.execute_input": "2022-05-24T15:06:11.039897Z",
     "iopub.status.busy": "2022-05-24T15:06:11.039299Z",
     "iopub.status.idle": "2022-05-24T15:06:11.581807Z",
     "shell.execute_reply": "2022-05-24T15:06:11.580793Z",
     "shell.execute_reply.started": "2022-05-24T15:06:11.039849Z"
    }
   },
   "outputs": [],
   "source": [
    "fig1, (axes) = plt.subplots(1,2,figsize=(12,5))\n",
    "\n",
    "\n",
    "scat_1 = sns.scatterplot(x='Annual Income (k$)', y='Spending Score (1-100)', data=KM5_clustered,\n",
    "                hue='Cluster', ax=axes[0], palette='Set1', legend='full')\n",
    "\n",
    "sns.scatterplot(x='Age', y='Spending Score (1-100)', data=KM5_clustered,\n",
    "                hue='Cluster', palette='Set1', ax=axes[1], legend='full')\n",
    "\n",
    "axes[0].scatter(KM_5_clusters.cluster_centers_[:,1],KM_5_clusters.cluster_centers_[:,2], marker='s', s=40, c=\"blue\")\n",
    "axes[1].scatter(KM_5_clusters.cluster_centers_[:,0],KM_5_clusters.cluster_centers_[:,2], marker='s', s=40, c=\"blue\")\n",
    "plt.show()"
   ]
  },
  {
   "cell_type": "markdown",
   "metadata": {},
   "source": [
    "K-Means algorithm generated the following 5 clusters:\n",
    "* clients with **low** annual income and **high** spending score\n",
    "* clients with **medium** annual income and **medium** spending score\n",
    "* clients with **high** annual income and **low** spending score\n",
    "* clients with **high** annual income and **high** spending score\n",
    "* clients with **low** annual income and **low** spending score\n",
    "\n",
    "There are no distinct groups is terms of customers age."
   ]
  },
  {
   "cell_type": "markdown",
   "metadata": {},
   "source": [
    "Sizes of the clusters:"
   ]
  },
  {
   "cell_type": "code",
   "execution_count": null,
   "metadata": {
    "execution": {
     "iopub.execute_input": "2022-05-24T15:06:11.584175Z",
     "iopub.status.busy": "2022-05-24T15:06:11.583571Z",
     "iopub.status.idle": "2022-05-24T15:06:11.599694Z",
     "shell.execute_reply": "2022-05-24T15:06:11.598673Z",
     "shell.execute_reply.started": "2022-05-24T15:06:11.584095Z"
    }
   },
   "outputs": [],
   "source": [
    "KM_clust_sizes = KM5_clustered.groupby('Cluster').size().to_frame()\n",
    "KM_clust_sizes.columns = [\"KM_size\"]\n",
    "KM_clust_sizes"
   ]
  },
  {
   "cell_type": "markdown",
   "metadata": {},
   "source": [
    "The biggest cluster is a cluster number 1 with 79 observations (\"medium-medium\" clients). There are two the smallest ones each containing 23 observations (cluster 3 \"high-high\" and cluster 0 \"low-high\" clients). Below there is a 3D projection of 5 generated clusters. It is not very helpful in terms of a visualisation in a static mode but if you run the code in an interactive environment (e.g. Spyder) you can rotate it!"
   ]
  },
  {
   "cell_type": "markdown",
   "metadata": {},
   "source": [
    "### 3-D Plotting"
   ]
  },
  {
   "cell_type": "code",
   "execution_count": null,
   "metadata": {
    "_kg_hide-input": true,
    "execution": {
     "iopub.execute_input": "2022-05-24T15:06:11.892324Z",
     "iopub.status.busy": "2022-05-24T15:06:11.891767Z",
     "iopub.status.idle": "2022-05-24T15:06:15.775633Z",
     "shell.execute_reply": "2022-05-24T15:06:15.774696Z",
     "shell.execute_reply.started": "2022-05-24T15:06:11.892268Z"
    }
   },
   "outputs": [],
   "source": [
    "import plotly as py\n",
    "import plotly.graph_objs as go\n",
    "\n",
    "def tracer(db, n, name):\n",
    "    '''\n",
    "    This function returns trace object for Plotly\n",
    "    '''\n",
    "    return go.Scatter3d(\n",
    "        x = db[db['Cluster']==n]['Age'],\n",
    "        y = db[db['Cluster']==n]['Spending Score (1-100)'],\n",
    "        z = db[db['Cluster']==n]['Annual Income (k$)'],\n",
    "        mode = 'markers',\n",
    "        name = name,\n",
    "        marker = dict(\n",
    "            size = 5\n",
    "        )\n",
    "     )\n",
    "\n",
    "trace0 = tracer(KM5_clustered, 0, 'Cluster 0')\n",
    "trace1 = tracer(KM5_clustered, 1, 'Cluster 1')\n",
    "trace2 = tracer(KM5_clustered, 2, 'Cluster 2')\n",
    "trace3 = tracer(KM5_clustered, 3, 'Cluster 3')\n",
    "trace4 = tracer(KM5_clustered, 4, 'Cluster 4')\n",
    "\n",
    "data = [trace0, trace1, trace2, trace3, trace4]\n",
    "\n",
    "layout = go.Layout(\n",
    "    title = 'Clusters by K-Means',\n",
    "    scene = dict(\n",
    "            xaxis = dict(title = 'Age'),\n",
    "            yaxis = dict(title = 'Spending Score'),\n",
    "            zaxis = dict(title = 'Annual Income')\n",
    "        )\n",
    ")\n",
    "\n",
    "fig = go.Figure(data=data, layout=layout)\n",
    "py.offline.iplot(fig)"
   ]
  },
  {
   "cell_type": "markdown",
   "metadata": {},
   "source": [
    "To check the quality of each cluster we can examine the Silhuette plot."
   ]
  },
  {
   "cell_type": "code",
   "execution_count": null,
   "metadata": {
    "execution": {
     "iopub.execute_input": "2022-05-24T15:06:15.777419Z",
     "iopub.status.busy": "2022-05-24T15:06:15.777138Z",
     "iopub.status.idle": "2022-05-24T15:06:16.186776Z",
     "shell.execute_reply": "2022-05-24T15:06:16.185561Z",
     "shell.execute_reply.started": "2022-05-24T15:06:15.777367Z"
    }
   },
   "outputs": [],
   "source": [
    "from yellowbrick.cluster import SilhouetteVisualizer\n",
    "model = KMeans(n_clusters=5, random_state=0)\n",
    "visualizer = SilhouetteVisualizer(model, colors='yellowbrick')\n",
    "visualizer.fit(X_numerics)\n",
    "visualizer.show()\n",
    "plt.show()"
   ]
  },
  {
   "cell_type": "markdown",
   "metadata": {},
   "source": [
    "## 3.2 Trial with 6 clusters"
   ]
  },
  {
   "cell_type": "code",
   "execution_count": null,
   "metadata": {
    "_kg_hide-input": true,
    "execution": {
     "iopub.execute_input": "2022-05-24T15:06:16.189926Z",
     "iopub.status.busy": "2022-05-24T15:06:16.189014Z",
     "iopub.status.idle": "2022-05-24T15:06:16.245894Z",
     "shell.execute_reply": "2022-05-24T15:06:16.244981Z",
     "shell.execute_reply.started": "2022-05-24T15:06:16.189848Z"
    }
   },
   "outputs": [],
   "source": [
    "KM_6_clusters = KMeans(n_clusters=6, init='k-means++').fit(X_numerics) # initialise and fit K-Means model\n",
    "\n",
    "KM6_clustered = X_numerics.copy()\n",
    "KM6_clustered.loc[:,'Cluster'] = KM_6_clusters.labels_ # append labels to points"
   ]
  },
  {
   "cell_type": "code",
   "execution_count": null,
   "metadata": {
    "_kg_hide-input": true,
    "execution": {
     "iopub.execute_input": "2022-05-24T15:06:16.248278Z",
     "iopub.status.busy": "2022-05-24T15:06:16.247578Z",
     "iopub.status.idle": "2022-05-24T15:06:17.090188Z",
     "shell.execute_reply": "2022-05-24T15:06:17.089211Z",
     "shell.execute_reply.started": "2022-05-24T15:06:16.248202Z"
    }
   },
   "outputs": [],
   "source": [
    "fig11, (axes) = plt.subplots(1,2,figsize=(12,5))\n",
    "\n",
    "sns.scatterplot(x='Annual Income (k$)', y='Spending Score (1-100)', data=KM6_clustered,\n",
    "                hue='Cluster', ax=axes[0], palette='Set1', legend='full')\n",
    "\n",
    "sns.scatterplot(x='Age', y='Spending Score (1-100)', data=KM6_clustered,\n",
    "                hue='Cluster', palette='Set1', ax=axes[1], legend='full')\n",
    "\n",
    "# plotting centroids\n",
    "axes[0].scatter(KM_6_clusters.cluster_centers_[:,1], KM_6_clusters.cluster_centers_[:,2], marker='s', s=40, c=\"blue\")\n",
    "axes[1].scatter(KM_6_clusters.cluster_centers_[:,0], KM_6_clusters.cluster_centers_[:,2], marker='s', s=40, c=\"blue\")\n",
    "plt.show()"
   ]
  },
  {
   "cell_type": "markdown",
   "metadata": {},
   "source": [
    "K-Means algorithm generated the following 6 clusters:\n",
    "<ol start=\"0\">\n",
    "    <li>younger clients with **medium** annual and **medium** spending score</li>\n",
    "    <li>clients with **high** annual income and **low** spending score</li>\n",
    "    <li>younger clients with **medium** annual and **medium** spending score</li>\n",
    "    <li>clients with **high** annual income and **high** spending score</li>\n",
    "    <li>clients with **low** annual income and **low** spending score</li>\n",
    "    <li>clients with **low** annual income and **high** spending score</li>\n",
    "</ol>\n",
    "\n",
    "There are no distinct groups is terms of customers age."
   ]
  },
  {
   "cell_type": "code",
   "execution_count": null,
   "metadata": {
    "execution": {
     "iopub.execute_input": "2022-05-24T15:06:17.092509Z",
     "iopub.status.busy": "2022-05-24T15:06:17.092114Z",
     "iopub.status.idle": "2022-05-24T15:06:17.109386Z",
     "shell.execute_reply": "2022-05-24T15:06:17.107925Z",
     "shell.execute_reply.started": "2022-05-24T15:06:17.092439Z"
    }
   },
   "outputs": [],
   "source": [
    "KM6_clust_sizes = KM6_clustered.groupby('Cluster').size().to_frame()\n",
    "KM6_clust_sizes.columns = [\"KM_size\"]\n",
    "KM6_clust_sizes"
   ]
  },
  {
   "cell_type": "code",
   "execution_count": null,
   "metadata": {
    "execution": {
     "iopub.execute_input": "2022-05-24T15:06:17.111509Z",
     "iopub.status.busy": "2022-05-24T15:06:17.110952Z",
     "iopub.status.idle": "2022-05-24T15:06:17.615847Z",
     "shell.execute_reply": "2022-05-24T15:06:17.614671Z",
     "shell.execute_reply.started": "2022-05-24T15:06:17.111175Z"
    }
   },
   "outputs": [],
   "source": [
    "# Plotly interactive 3D plot\n",
    "\n",
    "trace0 = tracer(KM6_clustered, 0, 'Cluster 0')\n",
    "trace1 = tracer(KM6_clustered, 1, 'Cluster 1')\n",
    "trace2 = tracer(KM6_clustered, 2, 'Cluster 2')\n",
    "trace3 = tracer(KM6_clustered, 3, 'Cluster 3')\n",
    "trace4 = tracer(KM6_clustered, 4, 'Cluster 4')\n",
    "trace5 = tracer(KM6_clustered, 5, 'Cluster 5')\n",
    "\n",
    "data = [trace0, trace1, trace2, trace3, trace4, trace5]\n",
    "\n",
    "layout = go.Layout(\n",
    "    title = 'Clusters by K-Means',\n",
    "    scene = dict(\n",
    "            xaxis = dict(title = 'Age'),\n",
    "            yaxis = dict(title = 'Spending Score'),\n",
    "            zaxis = dict(title = 'Annual Income')\n",
    "        )\n",
    ")\n",
    "\n",
    "fig = go.Figure(data=data, layout=layout)\n",
    "py.offline.iplot(fig)"
   ]
  },
  {
   "cell_type": "code",
   "execution_count": null,
   "metadata": {
    "execution": {
     "iopub.execute_input": "2022-05-24T15:06:17.617950Z",
     "iopub.status.busy": "2022-05-24T15:06:17.617498Z",
     "iopub.status.idle": "2022-05-24T15:06:18.042490Z",
     "shell.execute_reply": "2022-05-24T15:06:18.040664Z",
     "shell.execute_reply.started": "2022-05-24T15:06:17.617873Z"
    }
   },
   "outputs": [],
   "source": [
    "model = KMeans(n_clusters=6, random_state=0)\n",
    "visualizer = SilhouetteVisualizer(model, colors='yellowbrick')\n",
    "visualizer.fit(X_numerics)\n",
    "visualizer.show()\n",
    "plt.show()"
   ]
  }
 ],
 "metadata": {
  "kernelspec": {
   "display_name": "Python 3 (ipykernel)",
   "language": "python",
   "name": "python3"
  },
  "language_info": {
   "codemirror_mode": {
    "name": "ipython",
    "version": 3
   },
   "file_extension": ".py",
   "mimetype": "text/x-python",
   "name": "python",
   "nbconvert_exporter": "python",
   "pygments_lexer": "ipython3",
   "version": "3.8.17"
  }
 },
 "nbformat": 4,
 "nbformat_minor": 4
}
